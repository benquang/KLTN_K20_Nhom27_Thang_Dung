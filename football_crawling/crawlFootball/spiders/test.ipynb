{
 "cells": [
  {
   "cell_type": "code",
   "execution_count": 17,
   "metadata": {},
   "outputs": [
    {
     "name": "stdout",
     "output_type": "stream",
     "text": [
      "                        URL          date\n",
      "0   https://www.example.com   Aug 8, 2002\n",
      "1  https://www.example2.com  Aug 15, 2003\n",
      "2  https://www.example3.com  Aug 20, 2004\n"
     ]
    }
   ],
   "source": [
    "import pandas as pd\n",
    "\n",
    "data = {\n",
    "    'URL': ['https://www.example.com', 'https://www.example2.com', 'https://www.example3.com'],\n",
    "    'date': ['Aug 8, 2002', 'Aug 15, 2003', 'Aug 20, 2004']\n",
    "}\n",
    "\n",
    "df = pd.DataFrame(data)\n",
    "\n",
    "print(df)"
   ]
  },
  {
   "cell_type": "code",
   "execution_count": 20,
   "metadata": {},
   "outputs": [
    {
     "name": "stdout",
     "output_type": "stream",
     "text": [
      "0\n",
      "1\n"
     ]
    },
    {
     "data": {
      "text/html": [
       "<div>\n",
       "<style scoped>\n",
       "    .dataframe tbody tr th:only-of-type {\n",
       "        vertical-align: middle;\n",
       "    }\n",
       "\n",
       "    .dataframe tbody tr th {\n",
       "        vertical-align: top;\n",
       "    }\n",
       "\n",
       "    .dataframe thead th {\n",
       "        text-align: right;\n",
       "    }\n",
       "</style>\n",
       "<table border=\"1\" class=\"dataframe\">\n",
       "  <thead>\n",
       "    <tr style=\"text-align: right;\">\n",
       "      <th></th>\n",
       "      <th>URL</th>\n",
       "      <th>date</th>\n",
       "    </tr>\n",
       "  </thead>\n",
       "  <tbody>\n",
       "  </tbody>\n",
       "</table>\n",
       "</div>"
      ],
      "text/plain": [
       "Empty DataFrame\n",
       "Columns: [URL, date]\n",
       "Index: []"
      ]
     },
     "execution_count": 20,
     "metadata": {},
     "output_type": "execute_result"
    }
   ],
   "source": [
    "def GetFirstDaysOfEachMonth(input_df):\n",
    "        \"\"\"\n",
    "        This function will get the first update of each month only\n",
    "        input_df contains column \"date\" and \"url\"\n",
    "        \"\"\"\n",
    "\n",
    "        dates = input_df['date'].tolist()\n",
    "        first_days_of_each_month = []\n",
    "        # Loop through the list of dates\n",
    "        for i in range (0,len(dates)):\n",
    "            if (i+1<len(dates)): # Check if the next date exists\n",
    "                next_date = dates[i+1] # Get the next date\n",
    "            else: break\n",
    "            current_month = dates[i].split(' ')[0] # Get the current month\n",
    "            print(i)\n",
    "            next_month = next_date.split(' ')[0] # Get the next month\n",
    "            if (current_month != next_month): # Check if the current month is different from the next month\n",
    "                first_days_of_each_month.append(dates[i])\n",
    "        result = input_df[input_df['date'].isin(first_days_of_each_month)]\n",
    "        return result\n",
    "GetFirstDaysOfEachMonth(df)"
   ]
  },
  {
   "cell_type": "code",
   "execution_count": 28,
   "metadata": {},
   "outputs": [],
   "source": [
    "import re\n",
    "from datetime import datetime\n",
    "def ExtractInfosString(str):\n",
    "        age = re.findall(r'\\d+', str)[0]\n",
    "        birth_date = re.findall(r'[A-Za-z]+\\s\\d+,\\s\\d+', str)[0]\n",
    "        birth_date = ConvertUpdateDate(birth_date)\n",
    "        height = re.findall(r'\\d+cm', str)[0][:-2]\n",
    "        weight = re.findall(r'\\d+kg', str)[0][:-2]\n",
    "        \n",
    "        result_list = [age, birth_date, height, weight]\n",
    "\n",
    "        return result_list\n",
    "\n",
    "def ConvertUpdateDate(str):\n",
    "        date_object = datetime.strptime(str, '%b %d, %Y')\n",
    "        formatted_date = date_object.strftime('%Y-%m-%d')\n",
    "        return formatted_date"
   ]
  },
  {
   "cell_type": "code",
   "execution_count": 29,
   "metadata": {},
   "outputs": [
    {
     "ename": "AttributeError",
     "evalue": "module 'datetime' has no attribute 'strptime'",
     "output_type": "error",
     "traceback": [
      "\u001b[1;31m---------------------------------------------------------------------------\u001b[0m",
      "\u001b[1;31mAttributeError\u001b[0m                            Traceback (most recent call last)",
      "Cell \u001b[1;32mIn[29], line 2\u001b[0m\n\u001b[0;32m      1\u001b[0m text \u001b[38;5;241m=\u001b[39m \u001b[38;5;124m\"\u001b[39m\u001b[38;5;124m27y.o. (Jun 22, 1996) 191cm / 6\u001b[39m\u001b[38;5;124m'\u001b[39m\u001b[38;5;124m3\u001b[39m\u001b[38;5;130;01m\\\"\u001b[39;00m\u001b[38;5;124m 82kg / 181lbs\u001b[39m\u001b[38;5;124m\"\u001b[39m\n\u001b[1;32m----> 2\u001b[0m \u001b[43mExtractInfosString\u001b[49m\u001b[43m(\u001b[49m\u001b[43mtext\u001b[49m\u001b[43m)\u001b[49m\n",
      "Cell \u001b[1;32mIn[28], line 6\u001b[0m, in \u001b[0;36mExtractInfosString\u001b[1;34m(str)\u001b[0m\n\u001b[0;32m      4\u001b[0m age \u001b[38;5;241m=\u001b[39m re\u001b[38;5;241m.\u001b[39mfindall(\u001b[38;5;124mr\u001b[39m\u001b[38;5;124m'\u001b[39m\u001b[38;5;124m\\\u001b[39m\u001b[38;5;124md+\u001b[39m\u001b[38;5;124m'\u001b[39m, \u001b[38;5;28mstr\u001b[39m)[\u001b[38;5;241m0\u001b[39m]\n\u001b[0;32m      5\u001b[0m birth_date \u001b[38;5;241m=\u001b[39m re\u001b[38;5;241m.\u001b[39mfindall(\u001b[38;5;124mr\u001b[39m\u001b[38;5;124m'\u001b[39m\u001b[38;5;124m[A-Za-z]+\u001b[39m\u001b[38;5;124m\\\u001b[39m\u001b[38;5;124ms\u001b[39m\u001b[38;5;124m\\\u001b[39m\u001b[38;5;124md+,\u001b[39m\u001b[38;5;124m\\\u001b[39m\u001b[38;5;124ms\u001b[39m\u001b[38;5;124m\\\u001b[39m\u001b[38;5;124md+\u001b[39m\u001b[38;5;124m'\u001b[39m, \u001b[38;5;28mstr\u001b[39m)[\u001b[38;5;241m0\u001b[39m]\n\u001b[1;32m----> 6\u001b[0m birth_date \u001b[38;5;241m=\u001b[39m \u001b[43mConvertUpdateDate\u001b[49m\u001b[43m(\u001b[49m\u001b[43mbirth_date\u001b[49m\u001b[43m)\u001b[49m\n\u001b[0;32m      7\u001b[0m height \u001b[38;5;241m=\u001b[39m re\u001b[38;5;241m.\u001b[39mfindall(\u001b[38;5;124mr\u001b[39m\u001b[38;5;124m'\u001b[39m\u001b[38;5;124m\\\u001b[39m\u001b[38;5;124md+cm\u001b[39m\u001b[38;5;124m'\u001b[39m, \u001b[38;5;28mstr\u001b[39m)[\u001b[38;5;241m0\u001b[39m][:\u001b[38;5;241m-\u001b[39m\u001b[38;5;241m2\u001b[39m]\n\u001b[0;32m      8\u001b[0m weight \u001b[38;5;241m=\u001b[39m re\u001b[38;5;241m.\u001b[39mfindall(\u001b[38;5;124mr\u001b[39m\u001b[38;5;124m'\u001b[39m\u001b[38;5;124m\\\u001b[39m\u001b[38;5;124md+kg\u001b[39m\u001b[38;5;124m'\u001b[39m, \u001b[38;5;28mstr\u001b[39m)[\u001b[38;5;241m0\u001b[39m][:\u001b[38;5;241m-\u001b[39m\u001b[38;5;241m2\u001b[39m]\n",
      "Cell \u001b[1;32mIn[28], line 15\u001b[0m, in \u001b[0;36mConvertUpdateDate\u001b[1;34m(str)\u001b[0m\n\u001b[0;32m     14\u001b[0m \u001b[38;5;28;01mdef\u001b[39;00m \u001b[38;5;21mConvertUpdateDate\u001b[39m(\u001b[38;5;28mstr\u001b[39m):\n\u001b[1;32m---> 15\u001b[0m         date_object \u001b[38;5;241m=\u001b[39m \u001b[43mdatetime\u001b[49m\u001b[38;5;241;43m.\u001b[39;49m\u001b[43mstrptime\u001b[49m(\u001b[38;5;28mstr\u001b[39m, \u001b[38;5;124m'\u001b[39m\u001b[38;5;124m%\u001b[39m\u001b[38;5;124mb \u001b[39m\u001b[38;5;132;01m%d\u001b[39;00m\u001b[38;5;124m, \u001b[39m\u001b[38;5;124m%\u001b[39m\u001b[38;5;124mY\u001b[39m\u001b[38;5;124m'\u001b[39m)\n\u001b[0;32m     16\u001b[0m         formatted_date \u001b[38;5;241m=\u001b[39m date_object\u001b[38;5;241m.\u001b[39mstrftime(\u001b[38;5;124m'\u001b[39m\u001b[38;5;124m%\u001b[39m\u001b[38;5;124mY-\u001b[39m\u001b[38;5;124m%\u001b[39m\u001b[38;5;124mm-\u001b[39m\u001b[38;5;132;01m%d\u001b[39;00m\u001b[38;5;124m'\u001b[39m)\n\u001b[0;32m     17\u001b[0m         \u001b[38;5;28;01mreturn\u001b[39;00m formatted_date\n",
      "\u001b[1;31mAttributeError\u001b[0m: module 'datetime' has no attribute 'strptime'"
     ]
    }
   ],
   "source": [
    "text = \"27y.o. (Jun 22, 1996) 191cm / 6'3\\\" 82kg / 181lbs\"\n",
    "ExtractInfosString(text)"
   ]
  }
 ],
 "metadata": {
  "kernelspec": {
   "display_name": "Python 3",
   "language": "python",
   "name": "python3"
  },
  "language_info": {
   "codemirror_mode": {
    "name": "ipython",
    "version": 3
   },
   "file_extension": ".py",
   "mimetype": "text/x-python",
   "name": "python",
   "nbconvert_exporter": "python",
   "pygments_lexer": "ipython3",
   "version": "3.11.5"
  },
  "orig_nbformat": 4
 },
 "nbformat": 4,
 "nbformat_minor": 2
}
