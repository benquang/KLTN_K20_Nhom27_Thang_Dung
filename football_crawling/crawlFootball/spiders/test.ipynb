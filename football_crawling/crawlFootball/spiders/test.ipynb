{
 "cells": [
  {
   "cell_type": "code",
   "execution_count": 17,
   "metadata": {},
   "outputs": [
    {
     "name": "stdout",
     "output_type": "stream",
     "text": [
      "                        URL          date\n",
      "0   https://www.example.com   Aug 8, 2002\n",
      "1  https://www.example2.com  Aug 15, 2003\n",
      "2  https://www.example3.com  Aug 20, 2004\n"
     ]
    }
   ],
   "source": [
    "import pandas as pd\n",
    "\n",
    "data = {\n",
    "    'URL': ['https://www.example.com', 'https://www.example2.com', 'https://www.example3.com'],\n",
    "    'date': ['Aug 8, 2002', 'Aug 15, 2003', 'Aug 20, 2004']\n",
    "}\n",
    "\n",
    "df = pd.DataFrame(data)\n",
    "\n",
    "print(df)"
   ]
  },
  {
   "cell_type": "code",
   "execution_count": 20,
   "metadata": {},
   "outputs": [
    {
     "name": "stdout",
     "output_type": "stream",
     "text": [
      "0\n",
      "1\n"
     ]
    },
    {
     "data": {
      "text/html": [
       "<div>\n",
       "<style scoped>\n",
       "    .dataframe tbody tr th:only-of-type {\n",
       "        vertical-align: middle;\n",
       "    }\n",
       "\n",
       "    .dataframe tbody tr th {\n",
       "        vertical-align: top;\n",
       "    }\n",
       "\n",
       "    .dataframe thead th {\n",
       "        text-align: right;\n",
       "    }\n",
       "</style>\n",
       "<table border=\"1\" class=\"dataframe\">\n",
       "  <thead>\n",
       "    <tr style=\"text-align: right;\">\n",
       "      <th></th>\n",
       "      <th>URL</th>\n",
       "      <th>date</th>\n",
       "    </tr>\n",
       "  </thead>\n",
       "  <tbody>\n",
       "  </tbody>\n",
       "</table>\n",
       "</div>"
      ],
      "text/plain": [
       "Empty DataFrame\n",
       "Columns: [URL, date]\n",
       "Index: []"
      ]
     },
     "execution_count": 20,
     "metadata": {},
     "output_type": "execute_result"
    }
   ],
   "source": [
    "def GetFirstDaysOfEachMonth(input_df):\n",
    "        \"\"\"\n",
    "        This function will get the first update of each month only\n",
    "        input_df contains column \"date\" and \"url\"\n",
    "        \"\"\"\n",
    "\n",
    "        dates = input_df['date'].tolist()\n",
    "        first_days_of_each_month = []\n",
    "        # Loop through the list of dates\n",
    "        for i in range (0,len(dates)):\n",
    "            if (i+1<len(dates)): # Check if the next date exists\n",
    "                next_date = dates[i+1] # Get the next date\n",
    "            else: break\n",
    "            current_month = dates[i].split(' ')[0] # Get the current month\n",
    "            print(i)\n",
    "            next_month = next_date.split(' ')[0] # Get the next month\n",
    "            if (current_month != next_month): # Check if the current month is different from the next month\n",
    "                first_days_of_each_month.append(dates[i])\n",
    "        result = input_df[input_df['date'].isin(first_days_of_each_month)]\n",
    "        return result\n",
    "GetFirstDaysOfEachMonth(df)"
   ]
  },
  {
   "cell_type": "code",
   "execution_count": 3,
   "metadata": {},
   "outputs": [],
   "source": [
    "import re\n",
    "from datetime import datetime\n",
    "def ExtractInfosString(str):\n",
    "        age = re.findall(r'\\d+', str)[0]\n",
    "        birth_date = re.findall(r'[A-Za-z]+\\s\\d+,\\s\\d+', str)[0]\n",
    "        birth_date = ConvertUpdateDate(birth_date)\n",
    "        height = re.findall(r'\\d+cm', str)[0][:-2]\n",
    "        weight = re.findall(r'\\d+kg', str)[0][:-2]\n",
    "        \n",
    "        result_list = [age, birth_date, height, weight]\n",
    "\n",
    "        return result_list\n",
    "\n",
    "def ConvertUpdateDate(str):\n",
    "        date_object = datetime.strptime(str, '%b %d, %Y')\n",
    "        formatted_date = date_object.strftime('%Y-%m-%d')\n",
    "        return formatted_date"
   ]
  },
  {
   "cell_type": "code",
   "execution_count": 31,
   "metadata": {},
   "outputs": [
    {
     "data": {
      "text/plain": [
       "['27', '1996-06-22', '191', '82']"
      ]
     },
     "execution_count": 31,
     "metadata": {},
     "output_type": "execute_result"
    }
   ],
   "source": [
    "text = \"27y.o. (Jun 22, 1996) 191cm / 6'3\\\" 82kg / 181lbs\"\n",
    "ExtractInfosString(text)"
   ]
  },
  {
   "cell_type": "code",
   "execution_count": 4,
   "metadata": {},
   "outputs": [
    {
     "data": {
      "text/plain": [
       "'1996-06-22'"
      ]
     },
     "execution_count": 4,
     "metadata": {},
     "output_type": "execute_result"
    }
   ],
   "source": [
    "def ConvertUpdateDate(str):\n",
    "        date_object = datetime.strptime(str, '%b %d, %Y')\n",
    "        formatted_date = date_object.strftime('%Y-%m-%d')\n",
    "        return formatted_date\n",
    "ConvertUpdateDate('Jun 22, 1996')"
   ]
  }
 ],
 "metadata": {
  "kernelspec": {
   "display_name": "Python 3",
   "language": "python",
   "name": "python3"
  },
  "language_info": {
   "codemirror_mode": {
    "name": "ipython",
    "version": 3
   },
   "file_extension": ".py",
   "mimetype": "text/x-python",
   "name": "python",
   "nbconvert_exporter": "python",
   "pygments_lexer": "ipython3",
   "version": "3.11.5"
  },
  "orig_nbformat": 4
 },
 "nbformat": 4,
 "nbformat_minor": 2
}
