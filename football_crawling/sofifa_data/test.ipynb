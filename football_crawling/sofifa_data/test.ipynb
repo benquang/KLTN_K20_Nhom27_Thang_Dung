{
 "cells": [
  {
   "cell_type": "code",
   "execution_count": 1,
   "metadata": {},
   "outputs": [],
   "source": [
    "import pandas as pd\n"
   ]
  },
  {
   "cell_type": "code",
   "execution_count": 2,
   "metadata": {},
   "outputs": [],
   "source": [
    "player_attr_fc24 = pd.read_csv('./player_attr_FC24/player_attr_FC24.csv')\n",
    "player_attr_FRA = pd.read_csv('./player_attr_FRA/player_attr_FRA.csv')\n",
    "player_attr_ITA = pd.read_csv('./player_attr_ITA/player_attr_ITA.csv')\n",
    "player_attr_Laliga = pd.read_csv('./player_attr_Laliga/player_attr_Laliga.csv')"
   ]
  },
  {
   "cell_type": "code",
   "execution_count": 10,
   "metadata": {},
   "outputs": [
    {
     "name": "stdout",
     "output_type": "stream",
     "text": [
      "player_attr_fc24 has the same columns as player_attr_FRA\n",
      "player_attr_fc24 has the same columns as player_attr_ITA\n",
      "player_attr_fc24 has the same columns as player_attr_Laliga\n"
     ]
    }
   ],
   "source": [
    "# List of column names in player_attr_FRA DataFrame\n",
    "columns_FRA = list(player_attr_FRA.columns)\n",
    "\n",
    "# List of column names in player_attr_ITA DataFrame\n",
    "columns_ITA = list(player_attr_ITA.columns)\n",
    "\n",
    "# List of column names in player_attr_fc24 DataFrame\n",
    "columns_fc24 = list(player_attr_fc24.columns)\n",
    "\n",
    "# List of column names in player_attr_Laliga DataFrame\n",
    "columns_Laliga = list(player_attr_Laliga.columns)\n",
    "\n",
    "# Check if player_attr_fc24 has the same columns as player_attr_FRA\n",
    "if columns_fc24 == columns_FRA:\n",
    "    print(\"player_attr_fc24 has the same columns as player_attr_FRA\")\n",
    "else:\n",
    "    print(\"player_attr_fc24 does not have the same columns as player_attr_FRA\")\n",
    "\n",
    "# Check if player_attr_fc24 has the same columns as player_attr_ITA\n",
    "if columns_fc24 == columns_ITA:\n",
    "    print(\"player_attr_fc24 has the same columns as player_attr_ITA\")\n",
    "else:\n",
    "    print(\"player_attr_fc24 does not have the same columns as player_attr_ITA\")\n",
    "\n",
    "# Check if player_attr_fc24 has the same columns as player_attr_Laliga\n",
    "if columns_fc24 == columns_Laliga:\n",
    "    print(\"player_attr_fc24 has the same columns as player_attr_Laliga\")\n",
    "else:\n",
    "    print(\"player_attr_fc24 does not have the same columns as player_attr_Laliga\")\n",
    "\n"
   ]
  },
  {
   "cell_type": "code",
   "execution_count": 11,
   "metadata": {},
   "outputs": [],
   "source": [
    "# Concatenate the three dataframes\n",
    "player_attr = pd.concat([player_attr_FRA, player_attr_ITA, player_attr_Laliga])\n",
    "\n",
    "# Reset the index of the new dataframe\n",
    "player_attr.reset_index(drop=True, inplace=True)\n",
    "\n",
    "player_attr.to_csv('./player_attr.csv', index=False)\n",
    "\n"
   ]
  }
 ],
 "metadata": {
  "kernelspec": {
   "display_name": "Python 3",
   "language": "python",
   "name": "python3"
  },
  "language_info": {
   "codemirror_mode": {
    "name": "ipython",
    "version": 3
   },
   "file_extension": ".py",
   "mimetype": "text/x-python",
   "name": "python",
   "nbconvert_exporter": "python",
   "pygments_lexer": "ipython3",
   "version": "3.11.5"
  }
 },
 "nbformat": 4,
 "nbformat_minor": 2
}
